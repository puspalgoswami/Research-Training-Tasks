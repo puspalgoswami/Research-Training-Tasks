{
 "cells": [
  {
   "cell_type": "code",
   "execution_count": 20,
   "id": "35d17908",
   "metadata": {},
   "outputs": [
    {
     "name": "stdout",
     "output_type": "stream",
     "text": [
      "R2 score =  0.8009511355676777\n",
      "Mean Absolute Error =  2.888787878787879\n",
      "Mean Squared Error =  17.556459393939395\n"
     ]
    }
   ],
   "source": [
    "import pandas as pd\n",
    "from sklearn.neighbors import KNeighborsRegressor\n",
    "from sklearn.model_selection import train_test_split\n",
    "from sklearn.metrics import mean_squared_error, r2_score, mean_absolute_error\n",
    "\n",
    "life = pd.read_csv(\"dataLifeExpt.csv\")\n",
    "\n",
    "life = life.dropna()\n",
    "life['gdp_per_capita'] = (life['GDP'] / life['Population'])\n",
    "\n",
    "life = life.drop(columns=['Country', 'Year', 'Status', 'GDP', 'Population'])\n",
    "\n",
    "X = life.drop(columns=['Life expectancy'])\n",
    "y = life['Life expectancy']\n",
    "X_train, X_test, y_train, y_test = train_test_split(X, y, train_size=0.8)\n",
    "\n",
    "model = KNeighborsRegressor(n_neighbors=5)\n",
    "model.fit(X_train, y_train)\n",
    "prediction = model.predict(X_test)\n",
    "\n",
    "r2 = r2_score(y_test, prediction)\n",
    "mse = mean_squared_error(y_test, prediction)\n",
    "mae = mean_absolute_error(y_test, prediction)\n",
    "\n",
    "print(\"R2 score = \", r2)\n",
    "print(\"Mean Absolute Error = \", mae)\n",
    "print(\"Mean Squared Error = \", mse)"
   ]
  }
 ],
 "metadata": {
  "kernelspec": {
   "display_name": "Python 3",
   "language": "python",
   "name": "python3"
  },
  "language_info": {
   "codemirror_mode": {
    "name": "ipython",
    "version": 3
   },
   "file_extension": ".py",
   "mimetype": "text/x-python",
   "name": "python",
   "nbconvert_exporter": "python",
   "pygments_lexer": "ipython3",
   "version": "3.11.9"
  }
 },
 "nbformat": 4,
 "nbformat_minor": 5
}
